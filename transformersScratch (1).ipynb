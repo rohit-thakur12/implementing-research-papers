{
  "nbformat": 4,
  "nbformat_minor": 0,
  "metadata": {
    "colab": {
      "name": "transformersScratch.ipynb",
      "provenance": []
    },
    "kernelspec": {
      "name": "python3",
      "display_name": "Python 3"
    },
    "language_info": {
      "name": "python"
    },
    "accelerator": "GPU"
  },
  "cells": [
    {
      "cell_type": "code",
      "metadata": {
        "id": "mu5CG9Y9w94D"
      },
      "source": [
        "import torch\n",
        "import torch.nn as nn"
      ],
      "execution_count": 2,
      "outputs": []
    },
    {
      "cell_type": "code",
      "metadata": {
        "id": "QPS6XD3nyna6"
      },
      "source": [
        "class SelfAttention(nn.Module):\n",
        "  def __init__(self, embed_size, heads):\n",
        "    super(SelfAttention, self).__init__()\n",
        "    self.embed_size = embed_size\n",
        "    self.heads = heads\n",
        "    self.head_dim = embed_size // heads\n",
        "\n",
        "    assert (self.head_dim * heads == embed_size), \"Embed size needs to be divisible by heads\"\n",
        "\n",
        "    self.values = nn.Linear(self.head_dim, self.head_dim, bias=False)\n",
        "    self.keys = nn.Linear(self.head_dim, self.head_dim, bias=False)\n",
        "    self.queries = nn.Linear(self.head_dim, self.head_dim, bias=False)\n",
        "    self.fc_out = nn.Linear(heads* self.head_dim, embed_size)\n",
        "\n",
        "  def forward(self, values, keys, query, mask):\n",
        "    N = query.shape[0]\n",
        "    value_len, key_len, query_len = values.shape[1], keys.shape[1], query.shape[1]\n",
        "\n",
        "    # Split embedding into self.heads pieces\n",
        "    values = values.reshape(N, value_len, self.heads, self.head_dim)\n",
        "    keys = keys.reshape(N, key_len, self.heads, self.head_dim)\n",
        "    queries = query.reshape(N, query_len, self.heads, self.head_dim)\n",
        "\n",
        "    values = self.values(values)\n",
        "    keys = self.keys(keys)\n",
        "    queries = self.queries(queries)\n",
        "\n",
        "    \"\"\"\n",
        "    queries shape: (N, query_len, heads, heads_dim)\n",
        "    keys shape: (N, key_len, heads, heads_dim)\n",
        "    energy shape: (N, heads, query_len, key_len)\n",
        "    \"\"\"\n",
        "    energy = torch.einsum(\"nqhd,nkhd->nhqk\", [queries, keys])\n",
        "    \n",
        "    if mask is not None:\n",
        "      energy = energy.masked_fill(mask == 0, float(\"-1e20\"))\n",
        "\n",
        "    attention = torch.softmax(energy / (self.embed_size ** (1/2)), dim=3)\n",
        "\n",
        "    \"\"\"\n",
        "    attention shape: (N, heads, query_len, key_len)\n",
        "    values shape: (N, value_len, heads, heads_dim)\n",
        "    out shape: (N, query_len, heads, heads_dim) then flatten last two dimensions\n",
        "    \"\"\"\n",
        "\n",
        "    out = torch.einsum(\"nhql,nlhd->nqhd\", [attention, values]).reshape(\n",
        "        N, query_len, self.heads*self.head_dim\n",
        "    )\n",
        "\n",
        "    out = self.fc_out(out)\n",
        "    return out"
      ],
      "execution_count": 31,
      "outputs": []
    },
    {
      "cell_type": "code",
      "metadata": {
        "id": "FZ1HRdWj6afJ"
      },
      "source": [
        "class TransformerBlock(nn.Module):\n",
        "  def __init__(self, embed_size, heads, dropout, forward_expansion):\n",
        "    super(TransformerBlock, self).__init__()\n",
        "    self.attention = SelfAttention(embed_size, heads)\n",
        "    self.norm1 = nn.LayerNorm(embed_size)\n",
        "    self.norm2 = nn.LayerNorm(embed_size)\n",
        "\n",
        "    self.feed_forward = nn.Sequential(\n",
        "        nn.Linear(embed_size, forward_expansion * embed_size),\n",
        "        nn.ReLU(),\n",
        "        nn.Linear(forward_expansion * embed_size, embed_size)\n",
        "    )\n",
        "\n",
        "    self.dropout = nn.Dropout(dropout)\n",
        "\n",
        "  def forward(self, value, key, query, mask):\n",
        "    attention = self.attention(value, key, query, mask)\n",
        "    x = self.dropout(self.norm1(attention + query))\n",
        "    forward = self.feed_forward(x)\n",
        "    out = self.dropout(self.norm2(forward + x))\n",
        "    return out"
      ],
      "execution_count": 4,
      "outputs": []
    },
    {
      "cell_type": "code",
      "metadata": {
        "id": "Rsd4cWOVLUPP"
      },
      "source": [
        "class Encoder(nn.Module):\n",
        "  def __init__(\n",
        "      self,\n",
        "      src_vocab_size,\n",
        "      embed_size,\n",
        "      num_layers,\n",
        "      heads,\n",
        "      device,\n",
        "      forward_expansion,\n",
        "      dropout,\n",
        "      max_length\n",
        "  ):\n",
        "    super(Encoder, self).__init__()\n",
        "    self.embed_size = embed_size\n",
        "    self.device = device\n",
        "    self.word_embedding = nn.Embedding(src_vocab_size, embed_size)\n",
        "    self.position_embedding = nn.Embedding(max_length, embed_size)\n",
        "\n",
        "    self.layers = nn.ModuleList([\n",
        "                                 TransformerBlock(embed_size, heads, dropout=dropout, forward_expansion=forward_expansion) for _ in range(num_layers)\n",
        "    ])\n",
        "\n",
        "    self.dropout = nn.Dropout(dropout)\n",
        "\n",
        "  def forward(self, x, mask):\n",
        "    N, seq_length = x.shape\n",
        "    positions = torch.arange(0, seq_length).expand(N, seq_length).to(device)\n",
        "\n",
        "    out = self.dropout(self.word_embedding(x) + self.position_embedding(positions))\n",
        "\n",
        "    for layers in self.layers:\n",
        "      out = layers(out, out, out, mask)\n",
        "\n",
        "    return out"
      ],
      "execution_count": 23,
      "outputs": []
    },
    {
      "cell_type": "code",
      "metadata": {
        "id": "O6ZKs64hOVe_"
      },
      "source": [
        "class DecoderBlock(nn.Module):\n",
        "  def __init__(self, embed_size, heads, forward_expansion, dropout, device):\n",
        "    super(DecoderBlock, self).__init__()\n",
        "    self.attention = SelfAttention(embed_size, heads)\n",
        "    self.norm = nn.LayerNorm(embed_size)\n",
        "    self.transformer_block = TransformerBlock(\n",
        "        embed_size, heads, dropout, forward_expansion\n",
        "    )\n",
        "    self.dropout = nn.Dropout(dropout)\n",
        "\n",
        "  def forward(self, x, value, key, src_mask, trg_mask):\n",
        "    attention = self.attention(x, x, x, trg_mask)\n",
        "    query = self.dropout(self.norm(attention + x))\n",
        "    out = self.transformer_block(value, key, query, src_mask)\n",
        "    return out"
      ],
      "execution_count": 6,
      "outputs": []
    },
    {
      "cell_type": "code",
      "metadata": {
        "id": "5EeelyDxSA7W"
      },
      "source": [
        "class Decoder(nn.Module):\n",
        "  def __init__(\n",
        "      self,\n",
        "      trg_vocab_size,\n",
        "      embed_size,\n",
        "      num_layers,\n",
        "      heads,\n",
        "      forward_expansion,\n",
        "      dropout,\n",
        "      device,\n",
        "      max_length\n",
        "  ):\n",
        "    super(Decoder, self).__init__()\n",
        "    self.device = device\n",
        "    self.word_embedding = nn.Embedding(trg_vocab_size, embed_size)\n",
        "    self.position_embedding = nn.Embedding(max_length, embed_size)\n",
        "\n",
        "    self.layers = nn.ModuleList([\n",
        "                                 DecoderBlock(embed_size, heads, forward_expansion, dropout, device) for _ in range(num_layers)\n",
        "    ])\n",
        "\n",
        "    self.fc_out = nn.Linear(embed_size, trg_vocab_size)\n",
        "    self.dropout = nn.Dropout(dropout)\n",
        "\n",
        "  def forward(self, x, enc_out, src_mask, trg_mask):\n",
        "    N, seq_length = x.shape\n",
        "    position = torch.arange(0, seq_length).expand(N, seq_length).to(device)\n",
        "    x = self.dropout((self.word_embedding(x) + self.position_embedding(position)))\n",
        "\n",
        "    for layer in self.layers:\n",
        "      x = layer(x, enc_out, enc_out, src_mask, trg_mask)\n",
        "\n",
        "    out = self.fc_out(x)\n",
        "    return out"
      ],
      "execution_count": 7,
      "outputs": []
    },
    {
      "cell_type": "code",
      "metadata": {
        "id": "w9siFS_1W0SU"
      },
      "source": [
        "class Transformer(nn.Module):\n",
        "  def __init__(self, \n",
        "               src_vocab_size,\n",
        "               trg_vocab_size,\n",
        "               src_pad_idx,\n",
        "               trg_pad_idx,\n",
        "               embed_size=256,\n",
        "               num_layers=6,\n",
        "               forward_expansion=4,\n",
        "               heads=8,\n",
        "               dropout=0,\n",
        "               device=\"cuda\",\n",
        "               max_length=100):\n",
        "    super(Transformer, self).__init__()\n",
        "    \n",
        "    self.encoder = Encoder(\n",
        "        src_vocab_size,\n",
        "        embed_size,\n",
        "        num_layers,\n",
        "        heads,\n",
        "        device,\n",
        "        forward_expansion,\n",
        "        dropout,\n",
        "        max_length\n",
        "    )\n",
        "\n",
        "    self.decoder = Decoder(\n",
        "        trg_vocab_size,\n",
        "        embed_size,\n",
        "        num_layers,\n",
        "        heads,\n",
        "        forward_expansion,\n",
        "        dropout,\n",
        "        device,\n",
        "        max_length\n",
        "    )\n",
        "\n",
        "    self.src_pad_idx = src_pad_idx\n",
        "    self.trg_pad_idx = trg_pad_idx\n",
        "    self.device = device\n",
        "\n",
        "  def make_src_mask(self, src):\n",
        "    src_mask = (src != self.src_pad_idx).unsqueeze(1).unsqueeze(2)\n",
        "    return src_mask.to(self.device)\n",
        "\n",
        "  def make_trg_mask(self, trg):\n",
        "    N, trg_len = trg.shape\n",
        "    trg_mask = torch.tril(torch.ones((trg_len, trg_len))).expand(\n",
        "        N, 1, trg_len, trg_len\n",
        "    )\n",
        "    return trg_mask.to((self.device))\n",
        "  \n",
        "  def forward(self, src, trg):\n",
        "    src_mask = self.make_src_mask(src)\n",
        "    trg_mask = self.make_trg_mask(trg)\n",
        "    enc_src = self.encoder(src, src_mask)\n",
        "    out = self.decoder(trg, enc_src, src_mask, trg_mask)\n",
        "    return out"
      ],
      "execution_count": 14,
      "outputs": []
    },
    {
      "cell_type": "code",
      "metadata": {
        "colab": {
          "base_uri": "https://localhost:8080/"
        },
        "id": "5OyViEeRaDCC",
        "outputId": "e33cb11b-80a1-4de4-cfbb-8b53d6819c90"
      },
      "source": [
        "\n",
        "device = torch.device(\"cuda\" if torch.cuda.is_available() else \"cpu\")\n",
        "print(device)\n",
        "\n",
        "x = torch.tensor([[1, 5, 6, 4, 3, 9, 5, 2, 0], [1, 8, 7, 3, 4, 5, 6, 7, 2]]).to(\n",
        "    device\n",
        ")\n",
        "trg = torch.tensor([[1, 7, 4, 3, 5, 9, 2, 0], [1, 5, 6, 2, 4, 7, 6, 2]]).to(device)\n",
        "\n",
        "src_pad_idx = 0\n",
        "trg_pad_idx = 0\n",
        "src_vocab_size = 10\n",
        "trg_vocab_size = 10\n",
        "model = Transformer(src_vocab_size, trg_vocab_size, src_pad_idx, trg_pad_idx, device=device).to(\n",
        "    device\n",
        ")\n",
        "out = model(x, trg[:, :-1])\n",
        "\n",
        "print(out.shape)"
      ],
      "execution_count": 32,
      "outputs": [
        {
          "output_type": "stream",
          "text": [
            "cuda\n",
            "torch.Size([2, 7, 10])\n"
          ],
          "name": "stdout"
        }
      ]
    },
    {
      "cell_type": "code",
      "metadata": {
        "id": "qAf5Ns44dkGk"
      },
      "source": [
        ""
      ],
      "execution_count": null,
      "outputs": []
    }
  ]
}