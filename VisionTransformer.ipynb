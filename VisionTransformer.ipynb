{
  "nbformat": 4,
  "nbformat_minor": 0,
  "metadata": {
    "colab": {
      "name": "VisionTransformer.ipynb",
      "provenance": []
    },
    "kernelspec": {
      "name": "python3",
      "display_name": "Python 3"
    },
    "language_info": {
      "name": "python"
    },
    "accelerator": "GPU"
  },
  "cells": [
    {
      "cell_type": "code",
      "metadata": {
        "colab": {
          "base_uri": "https://localhost:8080/"
        },
        "id": "1DeEk0M_gec9",
        "outputId": "9e9ccb5b-c0fa-4ea0-9ac5-454a6900e6f3"
      },
      "source": [
        "!pip install -q tensorflow-addons"
      ],
      "execution_count": 1,
      "outputs": [
        {
          "output_type": "stream",
          "text": [
            "\u001b[?25l\r\u001b[K     |▌                               | 10kB 21.9MB/s eta 0:00:01\r\u001b[K     |█                               | 20kB 21.0MB/s eta 0:00:01\r\u001b[K     |█▌                              | 30kB 10.8MB/s eta 0:00:01\r\u001b[K     |██                              | 40kB 8.6MB/s eta 0:00:01\r\u001b[K     |██▍                             | 51kB 5.6MB/s eta 0:00:01\r\u001b[K     |███                             | 61kB 6.1MB/s eta 0:00:01\r\u001b[K     |███▍                            | 71kB 6.4MB/s eta 0:00:01\r\u001b[K     |███▉                            | 81kB 6.8MB/s eta 0:00:01\r\u001b[K     |████▍                           | 92kB 6.4MB/s eta 0:00:01\r\u001b[K     |████▉                           | 102kB 6.7MB/s eta 0:00:01\r\u001b[K     |█████▎                          | 112kB 6.7MB/s eta 0:00:01\r\u001b[K     |█████▉                          | 122kB 6.7MB/s eta 0:00:01\r\u001b[K     |██████▎                         | 133kB 6.7MB/s eta 0:00:01\r\u001b[K     |██████▊                         | 143kB 6.7MB/s eta 0:00:01\r\u001b[K     |███████▎                        | 153kB 6.7MB/s eta 0:00:01\r\u001b[K     |███████▊                        | 163kB 6.7MB/s eta 0:00:01\r\u001b[K     |████████▏                       | 174kB 6.7MB/s eta 0:00:01\r\u001b[K     |████████▊                       | 184kB 6.7MB/s eta 0:00:01\r\u001b[K     |█████████▏                      | 194kB 6.7MB/s eta 0:00:01\r\u001b[K     |█████████▋                      | 204kB 6.7MB/s eta 0:00:01\r\u001b[K     |██████████▏                     | 215kB 6.7MB/s eta 0:00:01\r\u001b[K     |██████████▋                     | 225kB 6.7MB/s eta 0:00:01\r\u001b[K     |███████████                     | 235kB 6.7MB/s eta 0:00:01\r\u001b[K     |███████████▋                    | 245kB 6.7MB/s eta 0:00:01\r\u001b[K     |████████████                    | 256kB 6.7MB/s eta 0:00:01\r\u001b[K     |████████████▌                   | 266kB 6.7MB/s eta 0:00:01\r\u001b[K     |█████████████                   | 276kB 6.7MB/s eta 0:00:01\r\u001b[K     |█████████████▌                  | 286kB 6.7MB/s eta 0:00:01\r\u001b[K     |██████████████                  | 296kB 6.7MB/s eta 0:00:01\r\u001b[K     |██████████████▌                 | 307kB 6.7MB/s eta 0:00:01\r\u001b[K     |███████████████                 | 317kB 6.7MB/s eta 0:00:01\r\u001b[K     |███████████████▍                | 327kB 6.7MB/s eta 0:00:01\r\u001b[K     |████████████████                | 337kB 6.7MB/s eta 0:00:01\r\u001b[K     |████████████████▍               | 348kB 6.7MB/s eta 0:00:01\r\u001b[K     |████████████████▉               | 358kB 6.7MB/s eta 0:00:01\r\u001b[K     |█████████████████▍              | 368kB 6.7MB/s eta 0:00:01\r\u001b[K     |█████████████████▉              | 378kB 6.7MB/s eta 0:00:01\r\u001b[K     |██████████████████▎             | 389kB 6.7MB/s eta 0:00:01\r\u001b[K     |██████████████████▉             | 399kB 6.7MB/s eta 0:00:01\r\u001b[K     |███████████████████▎            | 409kB 6.7MB/s eta 0:00:01\r\u001b[K     |███████████████████▊            | 419kB 6.7MB/s eta 0:00:01\r\u001b[K     |████████████████████▎           | 430kB 6.7MB/s eta 0:00:01\r\u001b[K     |████████████████████▊           | 440kB 6.7MB/s eta 0:00:01\r\u001b[K     |█████████████████████▏          | 450kB 6.7MB/s eta 0:00:01\r\u001b[K     |█████████████████████▊          | 460kB 6.7MB/s eta 0:00:01\r\u001b[K     |██████████████████████▏         | 471kB 6.7MB/s eta 0:00:01\r\u001b[K     |██████████████████████▋         | 481kB 6.7MB/s eta 0:00:01\r\u001b[K     |███████████████████████▏        | 491kB 6.7MB/s eta 0:00:01\r\u001b[K     |███████████████████████▋        | 501kB 6.7MB/s eta 0:00:01\r\u001b[K     |████████████████████████        | 512kB 6.7MB/s eta 0:00:01\r\u001b[K     |████████████████████████▋       | 522kB 6.7MB/s eta 0:00:01\r\u001b[K     |█████████████████████████       | 532kB 6.7MB/s eta 0:00:01\r\u001b[K     |█████████████████████████▌      | 542kB 6.7MB/s eta 0:00:01\r\u001b[K     |██████████████████████████      | 552kB 6.7MB/s eta 0:00:01\r\u001b[K     |██████████████████████████▌     | 563kB 6.7MB/s eta 0:00:01\r\u001b[K     |███████████████████████████     | 573kB 6.7MB/s eta 0:00:01\r\u001b[K     |███████████████████████████▌    | 583kB 6.7MB/s eta 0:00:01\r\u001b[K     |████████████████████████████    | 593kB 6.7MB/s eta 0:00:01\r\u001b[K     |████████████████████████████▍   | 604kB 6.7MB/s eta 0:00:01\r\u001b[K     |█████████████████████████████   | 614kB 6.7MB/s eta 0:00:01\r\u001b[K     |█████████████████████████████▍  | 624kB 6.7MB/s eta 0:00:01\r\u001b[K     |█████████████████████████████▉  | 634kB 6.7MB/s eta 0:00:01\r\u001b[K     |██████████████████████████████▍ | 645kB 6.7MB/s eta 0:00:01\r\u001b[K     |██████████████████████████████▉ | 655kB 6.7MB/s eta 0:00:01\r\u001b[K     |███████████████████████████████▎| 665kB 6.7MB/s eta 0:00:01\r\u001b[K     |███████████████████████████████▉| 675kB 6.7MB/s eta 0:00:01\r\u001b[K     |████████████████████████████████| 686kB 6.7MB/s \n",
            "\u001b[?25h"
          ],
          "name": "stdout"
        }
      ]
    },
    {
      "cell_type": "code",
      "metadata": {
        "id": "OlPEOdUogqox"
      },
      "source": [
        "import numpy as np\n",
        "import tensorflow as tf\n",
        "from tensorflow import keras\n",
        "from tensorflow.keras import layers\n",
        "import tensorflow_addons as tfa"
      ],
      "execution_count": 2,
      "outputs": []
    },
    {
      "cell_type": "code",
      "metadata": {
        "colab": {
          "base_uri": "https://localhost:8080/"
        },
        "id": "yX3s0natg-kk",
        "outputId": "2f408caa-056c-4011-c083-fd538ecc33e0"
      },
      "source": [
        "num_classes = 100\n",
        "input_shape = (32, 32, 3)\n",
        "\n",
        "(x_train, y_train), (x_test, y_test) = keras.datasets.cifar100.load_data()\n",
        "\n",
        "print(f\"x_train shape: {x_train.shape} - y_train shape: {y_train.shape}\")\n",
        "print(f\"x_test shape: {x_test.shape} - y_test shape: {y_test.shape}\")"
      ],
      "execution_count": 29,
      "outputs": [
        {
          "output_type": "stream",
          "text": [
            "x_train shape: (50000, 32, 32, 3) - y_train shape: (50000, 1)\n",
            "x_test shape: (10000, 32, 32, 3) - y_test shape: (10000, 1)\n"
          ],
          "name": "stdout"
        }
      ]
    },
    {
      "cell_type": "code",
      "metadata": {
        "id": "mdRGKcb7hz2c"
      },
      "source": [
        "learning_rate = 0.001\n",
        "weight_decay = 0.0001\n",
        "batch_size = 256\n",
        "num_epochs = 100\n",
        "image_size = 72  # We'll resize input images to this size\n",
        "patch_size = 6  # Size of the patches to be extract from the input images\n",
        "num_patches = (image_size // patch_size) ** 2\n",
        "projection_dim = 64\n",
        "num_heads = 4\n",
        "transformer_units = [\n",
        "    projection_dim * 2,\n",
        "    projection_dim,\n",
        "]  # Size of the transformer layers\n",
        "transformer_layers = 8\n",
        "mlp_head_units = [2048, 1024]  # Size of the dense layers of the final classifier"
      ],
      "execution_count": 30,
      "outputs": []
    },
    {
      "cell_type": "code",
      "metadata": {
        "id": "Nz50bURHihNI"
      },
      "source": [
        "data_augmentation = keras.Sequential(\n",
        "    [\n",
        "        layers.experimental.preprocessing.Normalization(),\n",
        "        layers.experimental.preprocessing.Resizing(image_size, image_size),\n",
        "        layers.experimental.preprocessing.RandomFlip(\"horizontal\"),\n",
        "        layers.experimental.preprocessing.RandomRotation(factor=0.02),\n",
        "        layers.experimental.preprocessing.RandomZoom(\n",
        "            height_factor=0.2, width_factor=0.2\n",
        "        ),\n",
        "    ],\n",
        "    name=\"data_augmentation\",\n",
        ")\n",
        "# Compute the mean and the variance of the training data for normalization.\n",
        "data_augmentation.layers[0].adapt(x_train)"
      ],
      "execution_count": 31,
      "outputs": []
    },
    {
      "cell_type": "code",
      "metadata": {
        "id": "HT_qfGdKjUzX"
      },
      "source": [
        "def mlp(x, hidden_units, dropout_rate):\n",
        "    for units in hidden_units:\n",
        "        x = layers.Dense(units, activation=tf.nn.gelu)(x)\n",
        "        x = layers.Dropout(dropout_rate)(x)\n",
        "    return x"
      ],
      "execution_count": 32,
      "outputs": []
    },
    {
      "cell_type": "code",
      "metadata": {
        "id": "Iz4X5Am-jheQ"
      },
      "source": [
        "class Patches(layers.Layer):\n",
        "    def __init__(self, patch_size):\n",
        "        super(Patches, self).__init__()\n",
        "        self.patch_size = patch_size\n",
        "\n",
        "    def call(self, images):\n",
        "        batch_size = tf.shape(images)[0]\n",
        "        patches = tf.image.extract_patches(\n",
        "            images=images,\n",
        "            sizes=[1, self.patch_size, self.patch_size, 1],\n",
        "            strides=[1, self.patch_size, self.patch_size, 1],\n",
        "            rates=[1, 1, 1, 1],\n",
        "            padding=\"VALID\",\n",
        "        )\n",
        "        patch_dims = patches.shape[-1]\n",
        "        patches = tf.reshape(patches, [batch_size, -1, patch_dims])\n",
        "        return patches"
      ],
      "execution_count": 33,
      "outputs": []
    },
    {
      "cell_type": "code",
      "metadata": {
        "colab": {
          "base_uri": "https://localhost:8080/",
          "height": 546
        },
        "id": "NCLKi1HqkgvI",
        "outputId": "ff013b14-c4be-4215-e9d2-e3cdaf9b03a1"
      },
      "source": [
        "import matplotlib.pyplot as plt\n",
        "\n",
        "plt.figure(figsize=(4, 4))\n",
        "image = x_train[np.random.choice(range(x_train.shape[0]))]\n",
        "plt.imshow(image.astype(\"uint8\"))\n",
        "plt.axis(\"off\")\n",
        "\n",
        "resized_image = tf.image.resize(\n",
        "    tf.convert_to_tensor([image]), size=(image_size, image_size)\n",
        ")\n",
        "patches = Patches(patch_size)(resized_image)\n",
        "print(f\"Image size: {image_size} X {image_size}\")\n",
        "print(f\"Patch size: {patch_size} X {patch_size}\")\n",
        "print(f\"Patches per image: {patches.shape[1]}\")\n",
        "print(f\"Elements per patch: {patches.shape[-1]}\")\n",
        "\n",
        "n = int(np.sqrt(patches.shape[1]))\n",
        "plt.figure(figsize=(4, 4))\n",
        "for i, patch in enumerate(patches[0]):\n",
        "    ax = plt.subplot(n, n, i + 1)\n",
        "    patch_img = tf.reshape(patch, (patch_size, patch_size, 3))\n",
        "    plt.imshow(patch_img.numpy().astype(\"uint8\"))\n",
        "    plt.axis(\"off\")"
      ],
      "execution_count": 34,
      "outputs": [
        {
          "output_type": "stream",
          "text": [
            "Image size: 72 X 72\n",
            "Patch size: 6 X 6\n",
            "Patches per image: 144\n",
            "Elements per patch: 108\n"
          ],
          "name": "stdout"
        },
        {
          "output_type": "display_data",
          "data": {
            "image/png": "[encoded data removed]",
            "text/plain": [
              "<Figure size 288x288 with 1 Axes>"
            ]
          },
          "metadata": {
            "tags": [],
            "needs_background": "light"
          }
        },
        {
          "output_type": "display_data",
          "data": {
            "image/png": "[encoded data removed]",
            "text/plain": [
              "<Figure size 288x288 with 144 Axes>"
            ]
          },
          "metadata": {
            "tags": [],
            "needs_background": "light"
          }
        }
      ]
    },
    {
      "cell_type": "code",
      "metadata": {
        "id": "HgC6xSsEkiRk"
      },
      "source": [
        "class PatchEncoder(layers.Layer):\n",
        "    def __init__(self, num_patches, projection_dim):\n",
        "        super(PatchEncoder, self).__init__()\n",
        "        self.num_patches = num_patches\n",
        "        self.projection = layers.Dense(units=projection_dim)\n",
        "        self.position_embedding = layers.Embedding(\n",
        "            input_dim=num_patches, output_dim=projection_dim\n",
        "        )\n",
        "\n",
        "    def call(self, patch):\n",
        "        positions = tf.range(start=0, limit=self.num_patches, delta=1)\n",
        "        encoded = self.projection(patch) + self.position_embedding(positions)\n",
        "        return encoded"
      ],
      "execution_count": 35,
      "outputs": []
    },
    {
      "cell_type": "code",
      "metadata": {
        "id": "W9qlfASImlzu"
      },
      "source": [
        "def create_vit_classifier():\n",
        "    inputs = layers.Input(shape=input_shape)\n",
        "    # Augment data.\n",
        "    augmented = data_augmentation(inputs)\n",
        "    # Create patches.\n",
        "    patches = Patches(patch_size)(augmented)\n",
        "    # Encode patches.\n",
        "    encoded_patches = PatchEncoder(num_patches, projection_dim)(patches)\n",
        "\n",
        "    # Create multiple layers of the Transformer block.\n",
        "    for _ in range(transformer_layers):\n",
        "        # Layer normalization 1.\n",
        "        x1 = layers.LayerNormalization(epsilon=1e-6)(encoded_patches)\n",
        "        # Create a multi-head attention layer.\n",
        "        attention_output = layers.MultiHeadAttention(\n",
        "            num_heads=num_heads, key_dim=projection_dim, dropout=0.1\n",
        "        )(x1, x1)\n",
        "        # Skip connection 1.\n",
        "        x2 = layers.Add()([attention_output, encoded_patches])\n",
        "        # Layer normalization 2.\n",
        "        x3 = layers.LayerNormalization(epsilon=1e-6)(x2)\n",
        "        # MLP.\n",
        "        x3 = mlp(x3, hidden_units=transformer_units, dropout_rate=0.1)\n",
        "        # Skip connection 2.\n",
        "        encoded_patches = layers.Add()([x3, x2])\n",
        "\n",
        "    # Create a [batch_size, projection_dim] tensor.\n",
        "    representation = layers.LayerNormalization(epsilon=1e-6)(encoded_patches)\n",
        "    representation = layers.Flatten()(representation)\n",
        "    representation = layers.Dropout(0.5)(representation)\n",
        "    # Add MLP.\n",
        "    features = mlp(representation, hidden_units=mlp_head_units, dropout_rate=0.5)\n",
        "    # Classify outputs.\n",
        "    logits = layers.Dense(num_classes)(features)\n",
        "    # Create the Keras model.\n",
        "    model = keras.Model(inputs=inputs, outputs=logits)\n",
        "    return model\n"
      ],
      "execution_count": 36,
      "outputs": []
    },
    {
      "cell_type": "code",
      "metadata": {
        "colab": {
          "base_uri": "https://localhost:8080/"
        },
        "id": "kFmHpWM-o79c",
        "outputId": "bf10f1a2-6d72-4f4b-f406-2bbd6a3d6242"
      },
      "source": [
        "def run_experiment(model):\n",
        "    optimizer = tfa.optimizers.AdamW(\n",
        "        learning_rate=learning_rate, weight_decay=weight_decay\n",
        "    )\n",
        "\n",
        "    model.compile(\n",
        "        optimizer=optimizer,\n",
        "        loss=keras.losses.SparseCategoricalCrossentropy(from_logits=True),\n",
        "        metrics=[\n",
        "            keras.metrics.SparseCategoricalAccuracy(name=\"accuracy\"),\n",
        "            keras.metrics.SparseTopKCategoricalAccuracy(5, name=\"top-5-accuracy\"),\n",
        "        ],\n",
        "    )\n",
        "\n",
        "    checkpoint_filepath = \"/tmp/checkpoint\"\n",
        "    checkpoint_callback = keras.callbacks.ModelCheckpoint(\n",
        "        checkpoint_filepath,\n",
        "        monitor=\"val_accuracy\",\n",
        "        save_best_only=True,\n",
        "        save_weights_only=True,\n",
        "    )\n",
        "\n",
        "    history = model.fit(\n",
        "        x=x_train,\n",
        "        y=y_train,\n",
        "        batch_size=batch_size,\n",
        "        epochs=num_epochs,\n",
        "        validation_split=0.1,\n",
        "        callbacks=[checkpoint_callback],\n",
        "    )\n",
        "\n",
        "    model.load_weights(checkpoint_filepath)\n",
        "    _, accuracy, top_5_accuracy = model.evaluate(x_test, y_test)\n",
        "    print(f\"Test accuracy: {round(accuracy * 100, 2)}%\")\n",
        "    print(f\"Test top 5 accuracy: {round(top_5_accuracy * 100, 2)}%\")\n",
        "\n",
        "    return history\n",
        "\n",
        "\n",
        "vit_classifier = create_vit_classifier()\n",
        "history = run_experiment(vit_classifier)"
      ],
      "execution_count": null,
      "outputs": [
        {
          "output_type": "stream",
          "text": [
            "Epoch 1/100\n",
            "WARNING:tensorflow:From /usr/local/lib/python3.7/dist-packages/tensorflow/python/ops/array_ops.py:5049: calling gather (from tensorflow.python.ops.array_ops) with validate_indices is deprecated and will be removed in a future version.\n",
            "Instructions for updating:\n",
            "The `validate_indices` argument has no effect. Indices are always validated on CPU and never validated on GPU.\n",
            "176/176 [==============================] - 156s 809ms/step - loss: 4.4911 - accuracy: 0.0437 - top-5-accuracy: 0.1536 - val_loss: 3.9899 - val_accuracy: 0.1036 - val_top-5-accuracy: 0.2980\n",
            "Epoch 2/100\n",
            "176/176 [==============================] - 142s 804ms/step - loss: 3.9385 - accuracy: 0.0938 - top-5-accuracy: 0.2935 - val_loss: 3.5552 - val_accuracy: 0.1620 - val_top-5-accuracy: 0.4062\n",
            "Epoch 3/100\n",
            "176/176 [==============================] - 142s 805ms/step - loss: 3.6673 - accuracy: 0.1370 - top-5-accuracy: 0.3754 - val_loss: 3.3752 - val_accuracy: 0.1962 - val_top-5-accuracy: 0.4646\n",
            "Epoch 4/100\n",
            "176/176 [==============================] - 142s 806ms/step - loss: 3.4729 - accuracy: 0.1673 - top-5-accuracy: 0.4302 - val_loss: 3.2161 - val_accuracy: 0.2208 - val_top-5-accuracy: 0.5054\n",
            "Epoch 5/100\n",
            "176/176 [==============================] - 141s 802ms/step - loss: 3.3177 - accuracy: 0.1947 - top-5-accuracy: 0.4737 - val_loss: 3.0547 - val_accuracy: 0.2496 - val_top-5-accuracy: 0.5426\n",
            "Epoch 6/100\n",
            "176/176 [==============================] - 141s 802ms/step - loss: 3.1807 - accuracy: 0.2217 - top-5-accuracy: 0.5121 - val_loss: 2.8885 - val_accuracy: 0.2852 - val_top-5-accuracy: 0.5812\n",
            "Epoch 7/100\n",
            "176/176 [==============================] - 142s 805ms/step - loss: 3.0412 - accuracy: 0.2445 - top-5-accuracy: 0.5448 - val_loss: 2.7891 - val_accuracy: 0.3066 - val_top-5-accuracy: 0.6064\n",
            "Epoch 8/100\n",
            "176/176 [==============================] - 142s 806ms/step - loss: 2.9108 - accuracy: 0.2717 - top-5-accuracy: 0.5790 - val_loss: 2.6633 - val_accuracy: 0.3258 - val_top-5-accuracy: 0.6332\n",
            "Epoch 9/100\n",
            "176/176 [==============================] - 141s 803ms/step - loss: 2.8018 - accuracy: 0.2919 - top-5-accuracy: 0.6054 - val_loss: 2.5453 - val_accuracy: 0.3452 - val_top-5-accuracy: 0.6638\n",
            "Epoch 10/100\n",
            "176/176 [==============================] - 141s 802ms/step - loss: 2.6906 - accuracy: 0.3146 - top-5-accuracy: 0.6313 - val_loss: 2.4947 - val_accuracy: 0.3632 - val_top-5-accuracy: 0.6730\n",
            "Epoch 11/100\n",
            "176/176 [==============================] - 141s 802ms/step - loss: 2.6066 - accuracy: 0.3339 - top-5-accuracy: 0.6474 - val_loss: 2.4344 - val_accuracy: 0.3746 - val_top-5-accuracy: 0.6812\n",
            "Epoch 12/100\n",
            "176/176 [==============================] - 141s 800ms/step - loss: 2.5146 - accuracy: 0.3548 - top-5-accuracy: 0.6672 - val_loss: 2.3656 - val_accuracy: 0.3968 - val_top-5-accuracy: 0.6884\n",
            "Epoch 13/100\n",
            "176/176 [==============================] - 141s 801ms/step - loss: 2.4308 - accuracy: 0.3702 - top-5-accuracy: 0.6871 - val_loss: 2.3187 - val_accuracy: 0.3980 - val_top-5-accuracy: 0.7062\n",
            "Epoch 14/100\n",
            "176/176 [==============================] - 141s 802ms/step - loss: 2.3499 - accuracy: 0.3875 - top-5-accuracy: 0.7027 - val_loss: 2.2244 - val_accuracy: 0.4206 - val_top-5-accuracy: 0.7282\n",
            "Epoch 15/100\n",
            "176/176 [==============================] - 141s 802ms/step - loss: 2.2824 - accuracy: 0.3999 - top-5-accuracy: 0.7192 - val_loss: 2.1831 - val_accuracy: 0.4312 - val_top-5-accuracy: 0.7312\n",
            "Epoch 16/100\n",
            "176/176 [==============================] - 141s 801ms/step - loss: 2.2223 - accuracy: 0.4138 - top-5-accuracy: 0.7309 - val_loss: 2.1912 - val_accuracy: 0.4236 - val_top-5-accuracy: 0.7274\n",
            "Epoch 17/100\n",
            "176/176 [==============================] - 141s 801ms/step - loss: 2.1701 - accuracy: 0.4256 - top-5-accuracy: 0.7408 - val_loss: 2.1527 - val_accuracy: 0.4410 - val_top-5-accuracy: 0.7362\n",
            "Epoch 18/100\n",
            "176/176 [==============================] - 141s 800ms/step - loss: 2.1037 - accuracy: 0.4406 - top-5-accuracy: 0.7572 - val_loss: 2.1212 - val_accuracy: 0.4432 - val_top-5-accuracy: 0.7454\n",
            "Epoch 19/100\n",
            "  9/176 [>.............................] - ETA: 2:09 - loss: 1.9951 - accuracy: 0.4688 - top-5-accuracy: 0.7656"
          ],
          "name": "stdout"
        }
      ]
    },
    {
      "cell_type": "code",
      "metadata": {
        "id": "s0d7Q7s6pTc2"
      },
      "source": [
        ""
      ],
      "execution_count": null,
      "outputs": []
    }
  ]
}